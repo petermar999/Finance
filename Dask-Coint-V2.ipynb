{
 "cells": [
  {
   "cell_type": "code",
   "execution_count": 1,
   "metadata": {},
   "outputs": [
    {
     "name": "stderr",
     "output_type": "stream",
     "text": [
      "/Users/ppm/anaconda3/lib/python3.7/site-packages/statsmodels/compat/pandas.py:49: FutureWarning: The Panel class is removed from pandas. Accessing it from the top-level namespace will also be removed in the next version\n",
      "  data_klasses = (pandas.Series, pandas.DataFrame, pandas.Panel)\n",
      "/Users/ppm/anaconda3/lib/python3.7/site-packages/dask/dataframe/utils.py:15: FutureWarning: pandas.util.testing is deprecated. Use the functions in the public API at pandas.testing instead.\n",
      "  import pandas.util.testing as tm\n"
     ]
    }
   ],
   "source": [
    "import yfinance as yf\n",
    "import numpy as np\n",
    "import pandas as pd\n",
    "import statsmodels\n",
    "from statsmodels.tsa.stattools import coint\n",
    "import matplotlib.pyplot as plt\n",
    "import dask\n",
    "import datetime as dt\n",
    "import dask.dataframe as dd"
   ]
  },
  {
   "cell_type": "code",
   "execution_count": 2,
   "metadata": {},
   "outputs": [
    {
     "data": {
      "text/html": [
       "<table style=\"border: 2px solid white;\">\n",
       "<tr>\n",
       "<td style=\"vertical-align: top; border: 0px solid white\">\n",
       "<h3 style=\"text-align: left;\">Client</h3>\n",
       "<ul style=\"text-align: left; list-style: none; margin: 0; padding: 0;\">\n",
       "  <li><b>Scheduler: </b>tcp://127.0.0.1:57345</li>\n",
       "  <li><b>Dashboard: </b><a href='http://127.0.0.1:8787/status' target='_blank'>http://127.0.0.1:8787/status</a>\n",
       "</ul>\n",
       "</td>\n",
       "<td style=\"vertical-align: top; border: 0px solid white\">\n",
       "<h3 style=\"text-align: left;\">Cluster</h3>\n",
       "<ul style=\"text-align: left; list-style:none; margin: 0; padding: 0;\">\n",
       "  <li><b>Workers: </b>4</li>\n",
       "  <li><b>Cores: </b>4</li>\n",
       "  <li><b>Memory: </b>4.40 GB</li>\n",
       "</ul>\n",
       "</td>\n",
       "</tr>\n",
       "</table>"
      ],
      "text/plain": [
       "<Client: scheduler='tcp://127.0.0.1:57345' processes=4 cores=4>"
      ]
     },
     "execution_count": 2,
     "metadata": {},
     "output_type": "execute_result"
    }
   ],
   "source": [
    "from dask.distributed import Client, progress\n",
    "client = Client(threads_per_worker=1, n_workers=4, memory_limit='1.1GB')\n",
    "client"
   ]
  },
  {
   "cell_type": "code",
   "execution_count": 3,
   "metadata": {},
   "outputs": [],
   "source": [
    "datalist = pd.read_csv('companylist.csv')"
   ]
  },
  {
   "cell_type": "code",
   "execution_count": 4,
   "metadata": {},
   "outputs": [],
   "source": [
    "datalisttech = datalist.loc[datalist['Sector'] == 'Technology']\n",
    "datalisttechbillion = datalisttech.loc[datalisttech['MarketCap'].str.contains(\"B\", na=False)]"
   ]
  },
  {
   "cell_type": "code",
   "execution_count": 5,
   "metadata": {},
   "outputs": [],
   "source": [
    "tickerlist = datalisttechbillion['Symbol'].to_list()"
   ]
  },
  {
   "cell_type": "code",
   "execution_count": 6,
   "metadata": {},
   "outputs": [],
   "source": [
    "#pandas_data = yf.download(tickers = tickerlist, period = '60d', interval = '2m', group_by='ticker', prepost=False)"
   ]
  },
  {
   "cell_type": "code",
   "execution_count": 7,
   "metadata": {},
   "outputs": [],
   "source": [
    "#for stock in tickerlist:\n",
    "#    pandas_data[stock].to_csv('stockdata/'+stock+'.csv')"
   ]
  },
  {
   "cell_type": "code",
   "execution_count": 9,
   "metadata": {},
   "outputs": [],
   "source": [
    "#tryit = pd.read_csv('stockdata/AAPL.csv')"
   ]
  },
  {
   "cell_type": "code",
   "execution_count": null,
   "metadata": {},
   "outputs": [],
   "source": []
  },
  {
   "cell_type": "code",
   "execution_count": 10,
   "metadata": {},
   "outputs": [],
   "source": [
    "def equalizer(list1, list2):\n",
    "    list1removal = []\n",
    "    for date in list1:\n",
    "        if date in list2:\n",
    "            None\n",
    "        else:\n",
    "            list1removal.append(date)\n",
    "    list2removal = []\n",
    "    for date2 in list2:\n",
    "        if date2 in list1:\n",
    "            None\n",
    "        else:\n",
    "            list2removal.append(date2)\n",
    "    return list1removal, list2removal"
   ]
  },
  {
   "cell_type": "code",
   "execution_count": 11,
   "metadata": {},
   "outputs": [],
   "source": [
    "def single_coint_test(stock1, stock2):\n",
    "        s1 = pd.read_csv('stockdata/'+stock1+'.csv', index_col = 'Datetime')['Open'].dropna()\n",
    "        s2 = pd.read_csv('stockdata/'+stock2+'.csv', index_col = 'Datetime')['Open'].dropna()\n",
    "        s1dates = s1.index.to_list()\n",
    "        s2dates = s2.index.to_list()\n",
    "        s1removal, s2removal = equalizer(s1dates, s2dates)\n",
    "        pvaluetable = []\n",
    "        for date in s1removal:\n",
    "            s1.drop(date, inplace=True)\n",
    "        for date2 in s2removal:\n",
    "            s2.drop(date2, inplace=True)\n",
    "        if len(s1.to_list()) <= 2 or len(s2.to_list()) <= 2:\n",
    "            pvaluetable.append([stock1, stock2, 1.0, 0])\n",
    "        elif len(s1.to_list()) != len(s2.to_list()):\n",
    "            pvaluetable.append([stock1, stock2, 1.0, 0])\n",
    "        else:\n",
    "            score, pvalue, _ = coint(s1, s2, autolag='aic')\n",
    "            if pvalue <= 0.01:\n",
    "                pvaluetable.append([stock1, stock2, pvalue, 1])\n",
    "            else:\n",
    "                pvaluetable.append([stock1, stock2, pvalue, 0])\n",
    "        del s1\n",
    "        del s2\n",
    "        del s1removal\n",
    "        del s2removal\n",
    "        return pvaluetable       "
   ]
  },
  {
   "cell_type": "code",
   "execution_count": null,
   "metadata": {},
   "outputs": [],
   "source": []
  },
  {
   "cell_type": "code",
   "execution_count": null,
   "metadata": {},
   "outputs": [],
   "source": []
  },
  {
   "cell_type": "code",
   "execution_count": 12,
   "metadata": {},
   "outputs": [],
   "source": [
    "def listshift(ticker_list):\n",
    "    newlist = [ticker_list[-1]] + ticker_list[:-1]\n",
    "    return newlist"
   ]
  },
  {
   "cell_type": "code",
   "execution_count": 13,
   "metadata": {},
   "outputs": [],
   "source": [
    "def dask_coint(tickers, rotations):\n",
    "    dask_coint = dask.delayed(single_coint_test)\n",
    "    dask_tasks_list = []\n",
    "    newlist = tickerlist\n",
    "    for count in np.arange(0, rotations):\n",
    "        newlist = listshift(newlist)\n",
    "        for stock_1, stock_2 in zip(tickerlist, newlist):\n",
    "            task = dask_coint(stock_1, stock_2)\n",
    "            dask_tasks_list.append(task)\n",
    "    dask_persist_list = dask.persist(*dask_tasks_list)\n",
    "    computations = dask.compute(dask_persist_list)\n",
    "    return computations"
   ]
  },
  {
   "cell_type": "code",
   "execution_count": 14,
   "metadata": {},
   "outputs": [],
   "source": [
    "def tasktime():\n",
    "    starttime = dt.datetime.now()\n",
    "    taskfile = dask_coint(tickerlist, 2)\n",
    "    endtime = dt.datetime.now()\n",
    "    time_elapsed = (endtime-starttime)\n",
    "    return taskfile, time_elapsed"
   ]
  },
  {
   "cell_type": "code",
   "execution_count": 15,
   "metadata": {},
   "outputs": [],
   "source": [
    "result, timer = tasktime()"
   ]
  },
  {
   "cell_type": "code",
   "execution_count": 21,
   "metadata": {},
   "outputs": [
    {
     "data": {
      "text/plain": [
       "436"
      ]
     },
     "execution_count": 21,
     "metadata": {},
     "output_type": "execute_result"
    }
   ],
   "source": [
    "len(result[0])"
   ]
  },
  {
   "cell_type": "code",
   "execution_count": 25,
   "metadata": {},
   "outputs": [],
   "source": [
    "wow = pd.DataFrame(result[0])"
   ]
  },
  {
   "cell_type": "code",
   "execution_count": 26,
   "metadata": {},
   "outputs": [],
   "source": [
    "wow.to_csv('results.csv')"
   ]
  },
  {
   "cell_type": "code",
   "execution_count": null,
   "metadata": {},
   "outputs": [],
   "source": []
  }
 ],
 "metadata": {
  "kernelspec": {
   "display_name": "Python 3",
   "language": "python",
   "name": "python3"
  },
  "language_info": {
   "codemirror_mode": {
    "name": "ipython",
    "version": 3
   },
   "file_extension": ".py",
   "mimetype": "text/x-python",
   "name": "python",
   "nbconvert_exporter": "python",
   "pygments_lexer": "ipython3",
   "version": "3.7.3"
  }
 },
 "nbformat": 4,
 "nbformat_minor": 2
}
